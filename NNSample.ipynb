{
 "cells": [
  {
   "cell_type": "markdown",
   "metadata": {
    "colab_type": "text",
    "id": "oQRNNkMK8SbH"
   },
   "source": [
    "# Introducción\n",
    "[Artículo introductorio](https://arxiv.org/pdf/1801.05894.pdf)\n"
   ]
  },
  {
   "cell_type": "markdown",
   "metadata": {
    "colab_type": "text",
    "id": "iff_uhdfmVhh"
   },
   "source": [
    "# Starting article with Pytorch low level"
   ]
  },
  {
   "cell_type": "markdown",
   "metadata": {
    "colab_type": "text",
    "id": "RiUg5T-xvvyc"
   },
   "source": [
    "## Librerias y clases"
   ]
  },
  {
   "cell_type": "code",
   "execution_count": 1,
   "metadata": {
    "colab": {},
    "colab_type": "code",
    "id": "ZpfLz9RTBJFD"
   },
   "outputs": [
    {
     "output_type": "error",
     "ename": "ModuleNotFoundError",
     "evalue": "No module named 'matplotlib'",
     "traceback": [
      "\u001b[1;31m---------------------------------------------------------------------------\u001b[0m",
      "\u001b[1;31mModuleNotFoundError\u001b[0m                       Traceback (most recent call last)",
      "\u001b[1;32m<ipython-input-1-492833195f46>\u001b[0m in \u001b[0;36m<module>\u001b[1;34m\u001b[0m\n\u001b[0;32m      1\u001b[0m \u001b[1;31m# Visualización de datos\u001b[0m\u001b[1;33m\u001b[0m\u001b[1;33m\u001b[0m\u001b[1;33m\u001b[0m\u001b[0m\n\u001b[1;32m----> 2\u001b[1;33m \u001b[1;32mimport\u001b[0m \u001b[0mmatplotlib\u001b[0m\u001b[1;33m.\u001b[0m\u001b[0mpyplot\u001b[0m \u001b[1;32mas\u001b[0m \u001b[0mplt\u001b[0m\u001b[1;33m\u001b[0m\u001b[1;33m\u001b[0m\u001b[0m\n\u001b[0m\u001b[0;32m      3\u001b[0m \u001b[1;32mimport\u001b[0m \u001b[0mnumpy\u001b[0m \u001b[1;32mas\u001b[0m \u001b[0mnp\u001b[0m\u001b[1;33m\u001b[0m\u001b[1;33m\u001b[0m\u001b[0m\n\u001b[0;32m      4\u001b[0m \u001b[1;33m\u001b[0m\u001b[0m\n\u001b[0;32m      5\u001b[0m \u001b[1;31m# Selección estocástica de dato de entrenamiento\u001b[0m\u001b[1;33m\u001b[0m\u001b[1;33m\u001b[0m\u001b[1;33m\u001b[0m\u001b[0m\n",
      "\u001b[1;31mModuleNotFoundError\u001b[0m: No module named 'matplotlib'"
     ]
    }
   ],
   "source": [
    "# Visualización de datos\n",
    "import matplotlib.pyplot as plt\n",
    "import numpy as np\n",
    "\n",
    "# Selección estocástica de dato de entrenamiento\n",
    "from random import randrange\n",
    "\n",
    "# Función exponencial\n",
    "import math \n",
    "\n",
    "import torch\n",
    "import datetime\n",
    "import os\n",
    "\n",
    "#Logger\n",
    "from torch.utils.tensorboard import SummaryWriter"
   ]
  },
  {
   "cell_type": "code",
   "execution_count": null,
   "metadata": {
    "colab": {},
    "colab_type": "code",
    "id": "nUtvii8tK3i7"
   },
   "outputs": [],
   "source": [
    "class cronometro:\n",
    "  def __init__(self):\n",
    "    self.time_passed = None\n",
    "    self.total_time = None\n",
    "    self.lapses = []\n",
    "    pass\n",
    "\n",
    "  def start(self):\n",
    "    if self.time_passed is None:\n",
    "      self.start_time = datetime.datetime.now()\n",
    "\n",
    "  def stop(self):\n",
    "    try:\n",
    "      time_passed = datetime.datetime.now() - self.start_time\n",
    "      if self.total_time is None:\n",
    "        self.total_time = time_passed\n",
    "      else:\n",
    "        self.total_time += time_passed\n",
    "      self.lapses.append(time_passed)\n",
    "    except:\n",
    "      print(\"You did not start the crhonometer\")\n",
    "\n",
    "  def get_time(self, delta_time, verbose=True):\n",
    "    minutos = delta_time.total_seconds() // 60\n",
    "    segundos = delta_time.total_seconds() - 60 * minutos\n",
    "    if verbose :\n",
    "      print(f\"Tiempo transcurrido: {minutos} minutos y {segundos:2.4} segundos.\")\n",
    "    return (minutos, segundos)\n",
    "  "
   ]
  },
  {
   "cell_type": "markdown",
   "metadata": {
    "colab_type": "text",
    "id": "c8NsWXHyixdV"
   },
   "source": [
    "## Datos de entrenamiento y test\n",
    "\n"
   ]
  },
  {
   "cell_type": "markdown",
   "metadata": {
    "colab_type": "text",
    "id": "nZrxB_FJoXuI"
   },
   "source": [
    "### Datos de entrenamiento"
   ]
  },
  {
   "cell_type": "code",
   "execution_count": null,
   "metadata": {
    "colab": {},
    "colab_type": "code",
    "id": "zaB_Vm7Iixdf"
   },
   "outputs": [],
   "source": [
    "# x = np.random.rand(100,2)\n",
    "datos_ent = torch.tensor([[0.1, 0.1], [0.3, 0.4], [0.1, 0.5], [0.6, 0.9], [0.4, 0.2], [0.6, 0.3] , [0.5, 0.6], [0.9, 0.2], [0.4, 0.4], [0.7, 0.6]], dtype=torch.float, requires_grad=False) # 10 datos\n",
    "labels = (\"A\", \"B\")\n",
    "\n",
    "# Crear trainset\n",
    "data = []\n",
    "for i in range(5):\n",
    "    data.append((datos_ent[i] ,labels[0]))\n",
    "for i in range(5,datos_ent.size()[0]):\n",
    "    data.append((datos_ent[i], labels[1]))\n",
    "\n",
    "cost_label = lambda label : torch.tensor([1,0],  dtype=torch.float, requires_grad=False) if label == \"A\" else torch.tensor([0,1],  dtype=torch.float, requires_grad=False)\n",
    "\n",
    "cost_labels = torch.tensor([[1,0], [1,0], [1,0], [1,0], [1,0], [0,1], [0,1], [0,1], [0,1], [0,1]],  dtype=torch.float)\n",
    "\n",
    "log_interval = 100\n",
    "\n"
   ]
  },
  {
   "cell_type": "markdown",
   "metadata": {
    "colab_type": "text",
    "id": "3pjC-N57oPr8"
   },
   "source": [
    "### Conjunto de datos de prueba\n",
    "\n"
   ]
  },
  {
   "cell_type": "code",
   "execution_count": null,
   "metadata": {
    "colab": {},
    "colab_type": "code",
    "id": "htV3TFqdixdl"
   },
   "outputs": [],
   "source": [
    "# Testset\n",
    "\n",
    "testSetLabels = [\"A\", \"A\", \"B\", \"B\", \"B\"]\n",
    "\n",
    "testSet = torch.tensor([[0.3,0.3], [0.8,1],[0.5,0.3], [0.3,0.6], [0.5,0.5]], dtype=torch.float, requires_grad=False)"
   ]
  },
  {
   "cell_type": "markdown",
   "metadata": {
    "colab_type": "text",
    "id": "8g8kbmuJixdq"
   },
   "source": [
    "### Visualización de los datos de entrenamiento\n",
    "Crear la figura para representar los datos (un scatter plot)"
   ]
  },
  {
   "cell_type": "code",
   "execution_count": null,
   "metadata": {
    "colab": {},
    "colab_type": "code",
    "id": "JNNsWPsRixdr"
   },
   "outputs": [],
   "source": [
    "# Train Set\n",
    "plt.scatter(datos_ent[:5,0],datos_ent[:5,1], c=\"red\", label='Alta calidad', marker=\"o\", s=50)\n",
    "plt.scatter(datos_ent[5:datos_ent.size()[0],0],datos_ent[5:datos_ent.size()[0],1], c=\"blue\", label='Baja calidad', marker=\"X\", s=50)\n",
    "\n",
    "#plt.scatter(testSet[:2,0],testSet[:2,1], c=\"yellow\", label=labels[0] + \" test\", marker=\"o\", s=50)\n",
    "#plt.scatter(testSet[2:5,0],testSet[2:5,1], c=\"green\", label=labels[1] + \" test\", marker=\"X\", s=50)\n",
    "\n",
    "plt.title(\"Datos de entrenamiento\")\n",
    "plt.legend()\n",
    "plt.show()\n"
   ]
  },
  {
   "cell_type": "markdown",
   "metadata": {
    "colab_type": "text",
    "id": "pDYCXsIGodg5"
   },
   "source": [
    "## Funciones base, activación y coste\n"
   ]
  },
  {
   "cell_type": "code",
   "execution_count": null,
   "metadata": {
    "colab": {},
    "colab_type": "code",
    "id": "ijICNaHEhjz8"
   },
   "outputs": [],
   "source": [
    "def activation (entrada):\n",
    "  return 1 / (1 + torch.exp(-entrada))\n",
    "\n",
    "def linear_fc(weight, bias, entrada):\n",
    "  return torch.sum(entrada * weight, dim=1) + bias\n",
    "\n",
    "def output_net(entrada):\n",
    "  return activation(linear_fc(w4, b4, activation(linear_fc(w3, b3, activation(linear_fc(w2,b2,entrada))))))\n",
    "\n",
    "# Función de coste\n",
    "def coste_dato(output, label):\n",
    "  cost = (label[0] - output[0]) ** 2  + (label[1] - output[1]) ** 2\n",
    "  return cost\n",
    "\n",
    "def coste_total():\n",
    "  costes = [coste_dato(output_net(x),y) for (x,y) in zip(datos_ent, cost_labels)]\n",
    "  return (torch.sum(torch.stack(costes)) / len(costes)).item()\n",
    "\n",
    "# Hyperparámetros\n",
    "\n",
    "#Tasa de aprendizaje\n",
    "eta = 0.05 \n",
    "\n",
    "#Número de iteraciones\n",
    "niter = 10 ** 6 "
   ]
  },
  {
   "cell_type": "markdown",
   "metadata": {
    "colab_type": "text",
    "id": "W4IKH3vYnEfk"
   },
   "source": [
    "## **Entrenamiento gradiente descendente estocástico (Inicialización A)**"
   ]
  },
  {
   "cell_type": "markdown",
   "metadata": {
    "colab_type": "text",
    "id": "DJgaQsvyplzo"
   },
   "source": [
    "### Inicialización de parámetros e hyperparámetros"
   ]
  },
  {
   "cell_type": "code",
   "execution_count": null,
   "metadata": {
    "colab": {},
    "colab_type": "code",
    "id": "e-6d4xbl6--X"
   },
   "outputs": [],
   "source": [
    "#Semilla para la reproducibilidad de resultados\n",
    "torch.manual_seed(0)\n",
    "\n",
    "# Inicialización de variables\n",
    "w2 = torch.rand(2, 2, dtype=torch.float, requires_grad=False) * 0.5\n",
    "w3 = torch.rand(3, 2, dtype=torch.float, requires_grad=False) * 0.5\n",
    "w4 = torch.rand(2, 3, dtype=torch.float, requires_grad=False) * 0.5\n",
    "b2 = torch.rand(2, dtype=torch.float, requires_grad=False) * 0.5\n",
    "b3 = torch.rand(3, dtype=torch.float, requires_grad=False) * 0.5\n",
    "b4 = torch.rand(2, dtype=torch.float, requires_grad=False) * 0.5\n",
    "\n",
    "save_cost_sgd = []"
   ]
  },
  {
   "cell_type": "code",
   "execution_count": null,
   "metadata": {
    "colab": {},
    "colab_type": "code",
    "id": "kcR_C48X7KJH"
   },
   "outputs": [],
   "source": [
    "# Mostrar valores\n",
    "print(\"Valor de w2:\")\n",
    "print(w2)\n",
    "print()\n",
    "\n",
    "print(\"Valor de w3:\")\n",
    "print(w3)\n",
    "print()\n",
    "\n",
    "print(\"Valor de w4:\")\n",
    "print(w4)\n",
    "print()\n",
    "\n",
    "print(\"Valor de b2:\")\n",
    "print(b2)\n",
    "print()\n",
    "\n",
    "print(\"Valor de b3:\")\n",
    "print(b3)\n",
    "print()\n",
    "\n",
    "print(\"Valor de b4:\")\n",
    "print(b4)\n",
    "print()"
   ]
  },
  {
   "cell_type": "markdown",
   "metadata": {
    "colab_type": "text",
    "id": "_rrMMCZEpuzq"
   },
   "source": [
    "### Rutina de entrenamiento"
   ]
  },
  {
   "cell_type": "code",
   "execution_count": null,
   "metadata": {
    "colab": {},
    "colab_type": "code",
    "id": "iGC0UzTG0gy9"
   },
   "outputs": [],
   "source": [
    "cron_gde = cronometro()\n",
    "cron_gde.start()\n",
    "\n",
    "for iteracion in range(niter):\n",
    "  # extraer los inputs; data es una lista de [input, label]\n",
    "\n",
    "  inputData, label = data[randrange(datos_ent.shape[0])]\n",
    "  #inputData, label = data[i]\n",
    "\n",
    "  # Forward pass\n",
    "  a2 = activation(linear_fc(w2, b2,inputData))\n",
    "  a3 = activation(linear_fc(w3, b3, a2))\n",
    "  a4 = activation(linear_fc(w4, b4, a3))\n",
    "\n",
    "  # Backward pass\n",
    "  delta4 = a4 * (1-a4) * (a4 - cost_label(label))\n",
    "  delta3 = a3 * (1- a3) * (w4.t() @ delta4)\n",
    "  delta2 = a2 * (1- a2) * (w3.t() @ delta3)\n",
    "\n",
    "  # Gradient step\n",
    "\n",
    "  w2 = w2 - eta * (delta2.repeat(2,1).t() * inputData)\n",
    "  w3 = w3 - eta * (delta3.repeat(2,1).t() * a2)\n",
    "  w4 = w4 - eta * (delta4.repeat(3,1).t() * a3)\n",
    "\n",
    "  b2 = torch.clone(delta2)\n",
    "  b3 = torch.clone(delta3)\n",
    "  b4 = torch.clone(delta4)\n",
    "  \n",
    "  if iteracion % log_interval == 0:\n",
    "    coste_tot = coste_total()\n",
    "    save_cost_sgd.append(coste_tot)\n",
    "    if iteracion % (log_interval * 100) == 0:\n",
    "      print(\"Iteración: [{}/{}] {:1.2f} % --> Coste: {:1.4f}\".format(iteracion + 1, niter, iteracion/niter * 100, coste_tot))\n",
    "\n",
    "cron_gde.stop()\n",
    "cron_gde.get_time(cron_gde.total_time)"
   ]
  },
  {
   "cell_type": "markdown",
   "metadata": {
    "colab_type": "text",
    "id": "becc9-CP6GKb"
   },
   "source": [
    "### Gráfico del valor de la función de coste por iteración\n"
   ]
  },
  {
   "cell_type": "code",
   "execution_count": null,
   "metadata": {
    "colab": {},
    "colab_type": "code",
    "id": "YkL5l9RCwCBv"
   },
   "outputs": [],
   "source": [
    "fig = plt.figure(figsize=(25, 10))\n",
    "plt.plot([x * log_interval for x in range(len(save_cost_sgd))], save_cost_sgd)\n",
    "plt.title(\"Gráfica coste/iteración\")\n",
    "plt.ylabel(\"Coste\")\n",
    "plt.xlabel(\"Número de iteraciónes\")\n",
    "\n",
    "fig.show()"
   ]
  },
  {
   "cell_type": "markdown",
   "metadata": {
    "colab_type": "text",
    "id": "9ICLN4nOp0cE"
   },
   "source": [
    "### Evaluación del modelo"
   ]
  },
  {
   "cell_type": "markdown",
   "metadata": {
    "colab_type": "text",
    "id": "g1IcIoC5p43b"
   },
   "source": [
    "#### Límite de decisión"
   ]
  },
  {
   "cell_type": "code",
   "execution_count": null,
   "metadata": {
    "colab": {},
    "colab_type": "code",
    "id": "ACvRYNd-ew-z"
   },
   "outputs": [],
   "source": [
    "boundary = []\n",
    "with torch.no_grad():\n",
    "  for a in np.arange(0.0,01.05,0.005):\n",
    "    for b in np.arange(0.0,01.05,0.005):\n",
    "      out = output_net(torch.tensor([a,b], dtype=torch.float))\n",
    "      if(abs(out[0]-out[1]) <= 0.1):\n",
    "        boundary.append([a, b])\n",
    "\n",
    "limit = torch.tensor(boundary)\n",
    "\n",
    "plt.clf();\n",
    "fig2 = plt.figure()\n",
    "plt.scatter(datos_ent[:5,0],datos_ent[:5,1], c=\"red\", label=labels[0], marker=\"o\", s=50)\n",
    "plt.scatter(datos_ent[5:datos_ent.size()[0],0],datos_ent[5:datos_ent.size()[0],1], c=\"blue\", label=labels[1], marker=\"X\", s=50)\n",
    "plt.scatter(testSet[:2,0],testSet[:2,1], c=\"yellow\", label=labels[0] + \" test\", marker=\"o\", s=50)\n",
    "plt.scatter(testSet[2:5,0],testSet[2:5,1], c=\"green\", label=labels[1] + \" test\", marker=\"X\", s=50)\n",
    "\n",
    "plt.scatter(limit[:,0],limit[:,1], c=\"black\", label=\"boundary\", marker=\"o\", s=10)\n",
    "\n",
    "plt.title(\"Limite de decisión\")\n",
    "plt.legend()\n",
    "fig2.show()\n"
   ]
  },
  {
   "cell_type": "markdown",
   "metadata": {
    "colab_type": "text",
    "id": "4ycQGeDvp8-M"
   },
   "source": [
    "#### Precisión del modelo"
   ]
  },
  {
   "cell_type": "code",
   "execution_count": null,
   "metadata": {
    "colab": {},
    "colab_type": "code",
    "id": "il6ar--kew-5"
   },
   "outputs": [],
   "source": [
    "predFc = lambda output : \"A\" if output[0] > output[1] else \"B\"\n",
    "numCorrect = 0\n",
    "with torch.no_grad():\n",
    "  for i in range(5):\n",
    "    out = predFc(output_net(testSet[i]))\n",
    "    if (out == testSetLabels[i]):\n",
    "      numCorrect += 1\n",
    "    else:\n",
    "      print(f\"Fallo al clasificar el punto: {i} -->\")\n",
    "      print(testSet[i])\n",
    "\n",
    "print(f\"La precisión de la red neuronal es: {(numCorrect / 5 * 100):.2f}%\")"
   ]
  },
  {
   "cell_type": "markdown",
   "metadata": {
    "colab_type": "text",
    "id": "ecqT8xAe1Xw0"
   },
   "source": [
    "## **Entrenamiento gradiente descendente estocástico (Inicialización B)**"
   ]
  },
  {
   "cell_type": "markdown",
   "metadata": {
    "colab_type": "text",
    "id": "iqP725rT1Xw7"
   },
   "source": [
    "### Inicialización de parámetros e hyperparámetros"
   ]
  },
  {
   "cell_type": "code",
   "execution_count": null,
   "metadata": {
    "colab": {},
    "colab_type": "code",
    "id": "kLKgBs0N1Xw8"
   },
   "outputs": [],
   "source": [
    "#Semilla para la reproducibilidad de resultados\n",
    "torch.manual_seed(89)\n",
    "\n",
    "# Inicialización de variables\n",
    "w2 = torch.rand(2, 2, dtype=torch.float, requires_grad=False) * 0.5\n",
    "w3 = torch.rand(3, 2, dtype=torch.float, requires_grad=False) * 0.5\n",
    "w4 = torch.rand(2, 3, dtype=torch.float, requires_grad=False) * 0.5\n",
    "b2 = torch.rand(2, dtype=torch.float, requires_grad=False) * 0.5\n",
    "b3 = torch.rand(3, dtype=torch.float, requires_grad=False) * 0.5\n",
    "b4 = torch.rand(2, dtype=torch.float, requires_grad=False) * 0.5\n",
    "\n",
    "save_cost_sgd = []"
   ]
  },
  {
   "cell_type": "code",
   "execution_count": null,
   "metadata": {
    "colab": {},
    "colab_type": "code",
    "id": "tku56ycv1XxB"
   },
   "outputs": [],
   "source": [
    "# Mostrar valores\n",
    "print(\"Valor de w2:\")\n",
    "print(w2)\n",
    "print()\n",
    "\n",
    "print(\"Valor de w3:\")\n",
    "print(w3)\n",
    "print()\n",
    "\n",
    "print(\"Valor de w4:\")\n",
    "print(w4)\n",
    "print()\n",
    "\n",
    "print(\"Valor de b2:\")\n",
    "print(b2)\n",
    "print()\n",
    "\n",
    "print(\"Valor de b3:\")\n",
    "print(b3)\n",
    "print()\n",
    "\n",
    "print(\"Valor de b4:\")\n",
    "print(b4)\n",
    "print()"
   ]
  },
  {
   "cell_type": "markdown",
   "metadata": {
    "colab_type": "text",
    "id": "t7xoUPL81XxE"
   },
   "source": [
    "### Rutina de entrenamiento"
   ]
  },
  {
   "cell_type": "code",
   "execution_count": null,
   "metadata": {
    "colab": {},
    "colab_type": "code",
    "id": "Obo5s7w01XxF"
   },
   "outputs": [],
   "source": [
    "cron_gde = cronometro()\n",
    "cron_gde.start()\n",
    "\n",
    "for iteracion in range(niter):\n",
    "  # extraer los inputs; data es una lista de [input, label]\n",
    "\n",
    "  inputData, label = data[randrange(datos_ent.shape[0])]\n",
    "  #inputData, label = data[i]\n",
    "\n",
    "  # Forward pass\n",
    "  a2 = activation(linear_fc(w2, b2,inputData))\n",
    "  a3 = activation(linear_fc(w3, b3, a2))\n",
    "  a4 = activation(linear_fc(w4, b4, a3))\n",
    "\n",
    "  # Backward pass\n",
    "  delta4 = a4 * (1-a4) * (a4 - cost_label(label))\n",
    "  delta3 = a3 * (1- a3) * (w4.t() @ delta4)\n",
    "  delta2 = a2 * (1- a2) * (w3.t() @ delta3)\n",
    "\n",
    "  # Gradient step\n",
    "\n",
    "  w2 = w2 - eta * (delta2.repeat(2,1).t() * inputData)\n",
    "  w3 = w3 - eta * (delta3.repeat(2,1).t() * a2)\n",
    "  w4 = w4 - eta * (delta4.repeat(3,1).t() * a3)\n",
    "\n",
    "  b2 = torch.clone(delta2)\n",
    "  b3 = torch.clone(delta3)\n",
    "  b4 = torch.clone(delta4)\n",
    "  \n",
    "  if iteracion % log_interval == 0:\n",
    "    coste_tot = coste_total()\n",
    "    save_cost_sgd.append(coste_tot)\n",
    "    if iteracion % (log_interval * 100) == 0:\n",
    "      print(\"Iteración: [{}/{}] {:1.2f} % --> Coste: {:1.4f}\".format(iteracion + 1, niter, iteracion/niter * 100, coste_tot))\n",
    "\n",
    "cron_gde.stop()\n",
    "cron_gde.get_time(cron_gde.total_time)"
   ]
  },
  {
   "cell_type": "markdown",
   "metadata": {
    "colab_type": "text",
    "id": "wk8Qicii1XxH"
   },
   "source": [
    "### Gráfico del valor de la función de coste por iteración\n"
   ]
  },
  {
   "cell_type": "code",
   "execution_count": null,
   "metadata": {
    "colab": {},
    "colab_type": "code",
    "id": "ps-BmMPn1XxH"
   },
   "outputs": [],
   "source": [
    "fig = plt.figure(figsize=(25, 10))\n",
    "plt.plot([x * log_interval for x in range(len(save_cost_sgd))], save_cost_sgd)\n",
    "plt.title(\"Gráfica coste/iteración\")\n",
    "plt.ylabel(\"Coste\")\n",
    "plt.xlabel(\"Número de iteraciónes\")\n",
    "\n",
    "fig.show()"
   ]
  },
  {
   "cell_type": "markdown",
   "metadata": {
    "colab_type": "text",
    "id": "ZDz7hpHY1XxK"
   },
   "source": [
    "### Evaluación del modelo"
   ]
  },
  {
   "cell_type": "markdown",
   "metadata": {
    "colab_type": "text",
    "id": "nNyrzGum1XxK"
   },
   "source": [
    "#### Límite de decisión"
   ]
  },
  {
   "cell_type": "code",
   "execution_count": null,
   "metadata": {
    "colab": {},
    "colab_type": "code",
    "id": "dL6KedO71XxL"
   },
   "outputs": [],
   "source": [
    "boundary = []\n",
    "with torch.no_grad():\n",
    "  for a in np.arange(0.0,01.05,0.005):\n",
    "    for b in np.arange(0.0,01.05,0.005):\n",
    "      out = output_net(torch.tensor([a,b], dtype=torch.float))\n",
    "      if(abs(out[0]-out[1]) <= 0.1):\n",
    "        boundary.append([a, b])\n",
    "\n",
    "limit = torch.tensor(boundary)\n",
    "\n",
    "plt.clf();\n",
    "fig2 = plt.figure()\n",
    "plt.scatter(datos_ent[:5,0],datos_ent[:5,1], c=\"red\", label=labels[0], marker=\"o\", s=50)\n",
    "plt.scatter(datos_ent[5:datos_ent.size()[0],0],datos_ent[5:datos_ent.size()[0],1], c=\"blue\", label=labels[1], marker=\"X\", s=50)\n",
    "plt.scatter(testSet[:2,0],testSet[:2,1], c=\"yellow\", label=labels[0] + \" test\", marker=\"o\", s=50)\n",
    "plt.scatter(testSet[2:5,0],testSet[2:5,1], c=\"green\", label=labels[1] + \" test\", marker=\"X\", s=50)\n",
    "\n",
    "plt.scatter(limit[:,0],limit[:,1], c=\"black\", label=\"boundary\", marker=\"o\", s=10)\n",
    "\n",
    "plt.title(\"Limite de decisión\")\n",
    "plt.legend()\n",
    "fig2.show()\n"
   ]
  },
  {
   "cell_type": "markdown",
   "metadata": {
    "colab_type": "text",
    "id": "-1pmZnW_1XxN"
   },
   "source": [
    "#### Precisión del modelo"
   ]
  },
  {
   "cell_type": "code",
   "execution_count": null,
   "metadata": {
    "colab": {},
    "colab_type": "code",
    "id": "h1LBe61n1XxN"
   },
   "outputs": [],
   "source": [
    "predFc = lambda output : \"A\" if output[0] > output[1] else \"B\"\n",
    "numCorrect = 0\n",
    "with torch.no_grad():\n",
    "  for i in range(5):\n",
    "    out = predFc(output_net(testSet[i]))\n",
    "    if (out == testSetLabels[i]):\n",
    "      numCorrect += 1\n",
    "    else:\n",
    "      print(f\"Fallo al clasificar el punto: {i} -->\")\n",
    "      print(testSet[i])\n",
    "\n",
    "print(f\"La precisión de la red neuronal es: {(numCorrect / 5 * 100):.2f}%\")"
   ]
  },
  {
   "cell_type": "markdown",
   "metadata": {
    "colab_type": "text",
    "id": "2ahTXFfvyBgk"
   },
   "source": [
    "## **Entrenamiento gradiente descendente (Inicialización A)**"
   ]
  },
  {
   "cell_type": "markdown",
   "metadata": {
    "colab_type": "text",
    "id": "svp8lK9byBgr"
   },
   "source": [
    "### Inicialización de parámetros e hyperparámetros"
   ]
  },
  {
   "cell_type": "code",
   "execution_count": null,
   "metadata": {
    "colab": {},
    "colab_type": "code",
    "id": "c-J2J_UfyBgs"
   },
   "outputs": [],
   "source": [
    "#Semilla para la reproducibilidad de resultados\n",
    "torch.manual_seed(0)\n",
    "\n",
    "# Inicialización de variables\n",
    "\n",
    "w2 = torch.rand(2, 2, dtype=torch.float, requires_grad=False) * 0.5\n",
    "w3 = torch.rand(3, 2, dtype=torch.float, requires_grad=False) * 0.5\n",
    "w4 = torch.rand(2, 3, dtype=torch.float, requires_grad=False) * 0.5\n",
    "b2 = torch.rand(2, dtype=torch.float, requires_grad=False) * 0.5\n",
    "b3 = torch.rand(3, dtype=torch.float, requires_grad=False) * 0.5\n",
    "b4 = torch.rand(2, dtype=torch.float, requires_grad=False) * 0.5\n",
    "\n",
    "save_cost_gd = []"
   ]
  },
  {
   "cell_type": "code",
   "execution_count": null,
   "metadata": {
    "colab": {},
    "colab_type": "code",
    "id": "j7YgxcLhyBgx"
   },
   "outputs": [],
   "source": [
    "# Mostrar valores\n",
    "print(\"Valor de w2:\")\n",
    "print(w2)\n",
    "print()\n",
    "\n",
    "print(\"Valor de w3:\")\n",
    "print(w3)\n",
    "print()\n",
    "\n",
    "print(\"Valor de w4:\")\n",
    "print(w4)\n",
    "print()\n",
    "\n",
    "print(\"Valor de b2:\")\n",
    "print(b2)\n",
    "print()\n",
    "\n",
    "print(\"Valor de b3:\")\n",
    "print(b3)\n",
    "print()\n",
    "\n",
    "print(\"Valor de b4:\")\n",
    "print(b4)\n",
    "print()"
   ]
  },
  {
   "cell_type": "markdown",
   "metadata": {
    "colab_type": "text",
    "id": "9rk20YJsyBg0"
   },
   "source": [
    "### Rutina de entrenamiento\n"
   ]
  },
  {
   "cell_type": "code",
   "execution_count": null,
   "metadata": {
    "colab": {},
    "colab_type": "code",
    "id": "OL3wUyymyBg4"
   },
   "outputs": [],
   "source": [
    "cron_gd = cronometro()\n",
    "cron_gd.start()\n",
    "\n",
    "for iteracion in range(niter):\n",
    "  # extraer los inputs; data es una lista de [input, label]\n",
    "\n",
    "  ws2 = torch.zeros((10,2,2))\n",
    "  ws3 = torch.zeros((10,3,2))\n",
    "  ws4 = torch.zeros((10,2,3))\n",
    "  bs2 = torch.zeros((10,2))\n",
    "  bs3 = torch.zeros((10,3))\n",
    "  bs4 = torch.zeros((10,2))\n",
    "\n",
    "  for i in range(10):\n",
    "    #inputData, label = data[randrange(x.shape[0])]\n",
    "    inputData, label = data[i]\n",
    "\n",
    "    # Forward pass\n",
    "    a2 = activation(linear_fc(w2, b2,inputData))\n",
    "    a3 = activation(linear_fc(w3, b3, a2))\n",
    "    a4 = activation(linear_fc(w4, b4, a3))\n",
    "  \n",
    "    # Backward pass\n",
    "    #Derivadas locales\n",
    "    delta4 = a4 * (1-a4) * (a4 - cost_label(label))\n",
    "    delta3 = a3 * (1- a3) * (w4.t() @ delta4)\n",
    "    delta2 = a2 * (1- a2) * (w3.t() @ delta3)\n",
    "\n",
    "    # Derivadas parciales de los parámetros\n",
    "    ws2[i] = delta2.repeat(2,1).t() * inputData\n",
    "    ws3[i] = delta3.repeat(2,1).t() * a2\n",
    "    ws4[i] = delta4.repeat(3,1).t() * a3\n",
    "    bs2[i] = torch.clone(delta2)\n",
    "    bs3[i] = torch.clone(delta3)\n",
    "    bs4[i] = torch.clone(delta4)\n",
    "\n",
    "  # Gradient step\n",
    "  w2 = w2 - eta * torch.tensor([[torch.mean(ws2[:,0,0]) , torch.mean(ws2[:,0,1])],\n",
    "                                [torch.mean(ws2[:,1,0]) ,torch.mean(ws2[:,1,1])]])\n",
    "  \n",
    "  w3 = w3 - eta * torch.tensor([[torch.mean(ws3[:,0,0]) , torch.mean(ws3[:,0,1])],\n",
    "                                [torch.mean(ws3[:,1,0]) , torch.mean(ws3[:,1,1])],\n",
    "                                [torch.mean(ws3[:,2,0]) , torch.mean(ws3[:,2,1])]])\n",
    "  \n",
    "  w4 = w4 - eta * torch.tensor([[torch.mean(ws4[:,0,0]) , torch.mean(ws4[:,0,1]),torch.mean(ws4[:,0,2])],\n",
    "                                [torch.mean(ws4[:,1,0]) , torch.mean(ws4[:,1,1]),torch.mean(ws4[:,1,2])]])\n",
    "  \n",
    "  b2 = torch.tensor([torch.mean(bs2[:,0]), torch.mean(bs2[:,1])])\n",
    "  b3 = torch.tensor([torch.mean(bs3[:,0]), torch.mean(bs3[:,1]), torch.mean(bs3[:,2])])\n",
    "  b4 = torch.tensor([torch.mean(bs4[:,0]), torch.mean(bs4[:,1])])\n",
    "  \n",
    "  \n",
    "  if iteracion % log_interval == 0:\n",
    "    coste_tot = coste_total()\n",
    "    save_cost_gd.append(coste_tot)\n",
    "    if iteracion % (log_interval * 100) == 0:\n",
    "      print(\"Iteración: [{}/{}] {:1.2f} % --> Coste: {:1.4f}\".format(iteracion + 1, niter, iteracion/niter * 100, coste_tot))\n",
    "  \n",
    "cron_gd.stop()\n",
    "cron_gd.get_time(cron_gd.total_time)"
   ]
  },
  {
   "cell_type": "markdown",
   "metadata": {
    "colab_type": "text",
    "id": "W8LKb5MKyBg6"
   },
   "source": [
    "### Gráfico del valor de la función de coste por iteración\n"
   ]
  },
  {
   "cell_type": "code",
   "execution_count": null,
   "metadata": {
    "colab": {},
    "colab_type": "code",
    "id": "xpaP5X5MyBg7"
   },
   "outputs": [],
   "source": [
    "fig = plt.figure(figsize=(25, 10))\n",
    "plt.plot([x * log_interval for x in range(len(save_cost_gd))], save_cost_gd)\n",
    "plt.title(\"Gráfica coste/iteración\")\n",
    "plt.ylabel(\"Coste\")\n",
    "plt.xlabel(\"Número de iteraciónes\")\n",
    "fig.show()"
   ]
  },
  {
   "cell_type": "markdown",
   "metadata": {
    "colab_type": "text",
    "id": "wYHwO9C-yBg9"
   },
   "source": [
    "### Evaluación del modelo\n"
   ]
  },
  {
   "cell_type": "markdown",
   "metadata": {
    "colab_type": "text",
    "id": "r-d6b_GuyBg9"
   },
   "source": [
    "#### Límite de decisión"
   ]
  },
  {
   "cell_type": "code",
   "execution_count": null,
   "metadata": {
    "colab": {},
    "colab_type": "code",
    "id": "pctYVg3_yBg-"
   },
   "outputs": [],
   "source": [
    "boundary = []\n",
    "with torch.no_grad():\n",
    "  for a in np.arange(0.0,01.05,0.005):\n",
    "    for b in np.arange(0.0,01.05,0.005):\n",
    "      out = output_net(torch.tensor([a,b], dtype=torch.float))\n",
    "      if(abs(out[0]-out[1]) <= 0.1):\n",
    "        boundary.append([a, b])\n",
    "\n",
    "limit = torch.tensor(boundary)\n",
    "\n",
    "plt.clf();\n",
    "fig2 = plt.figure()\n",
    "plt.scatter(datos_ent[:5,0],datos_ent[:5,1], c=\"red\", label=labels[0], marker=\"o\", s=50)\n",
    "plt.scatter(datos_ent[5:datos_ent.size()[0],0],datos_ent[5:datos_ent.size()[0],1], c=\"blue\", label=labels[1], marker=\"X\", s=50)\n",
    "plt.scatter(testSet[:2,0],testSet[:2,1], c=\"yellow\", label=labels[0] + \" test\", marker=\"o\", s=50)\n",
    "plt.scatter(testSet[2:5,0],testSet[2:5,1], c=\"green\", label=labels[1] + \" test\", marker=\"X\", s=50)\n",
    "\n",
    "plt.scatter(limit[:,0],limit[:,1], c=\"black\", label=\"boundary\", marker=\"o\", s=10)\n",
    "\n",
    "plt.title(\"Limite de decisión\")\n",
    "plt.legend()\n",
    "fig2.show()\n"
   ]
  },
  {
   "cell_type": "markdown",
   "metadata": {
    "colab_type": "text",
    "id": "q7kYY5eNyBhA"
   },
   "source": [
    "#### Precisión del modelo"
   ]
  },
  {
   "cell_type": "code",
   "execution_count": null,
   "metadata": {
    "colab": {},
    "colab_type": "code",
    "id": "fSdSJNrbyBhB"
   },
   "outputs": [],
   "source": [
    "predFc = lambda output : \"A\" if output[0] > output[1] else \"B\"\n",
    "numCorrect = 0\n",
    "with torch.no_grad():\n",
    "  for i in range(5):\n",
    "    out = predFc(output_net(testSet[i]))\n",
    "    if (out == testSetLabels[i]):\n",
    "      numCorrect += 1\n",
    "    else:\n",
    "      print(f\"Fallo al clasificar el punto: {i} -->\")\n",
    "      print(testSet[i])\n",
    "\n",
    "print(f\"La precisión de la red neuronal es: {(numCorrect / 5 * 100):.2f}%\")"
   ]
  },
  {
   "cell_type": "markdown",
   "metadata": {
    "colab_type": "text",
    "id": "HbnrBkhr6zTI"
   },
   "source": [
    "## **Entrenamiento gradiente descendente (Inicialización B)**"
   ]
  },
  {
   "cell_type": "markdown",
   "metadata": {
    "colab_type": "text",
    "id": "8-7QS28dpS1y"
   },
   "source": [
    "### Inicialización de parámetros e hyperparámetros"
   ]
  },
  {
   "cell_type": "code",
   "execution_count": null,
   "metadata": {
    "colab": {},
    "colab_type": "code",
    "id": "1BFsb8Fvixdv"
   },
   "outputs": [],
   "source": [
    "#Semilla para la reproducibilidad de resultados\n",
    "torch.manual_seed(100)\n",
    "\n",
    "# Inicialización de variables\n",
    "\n",
    "w2 = torch.rand(2, 2, dtype=torch.float, requires_grad=False) * 0.5\n",
    "w3 = torch.rand(3, 2, dtype=torch.float, requires_grad=False) * 0.5\n",
    "w4 = torch.rand(2, 3, dtype=torch.float, requires_grad=False) * 0.5\n",
    "b2 = torch.rand(2, dtype=torch.float, requires_grad=False) * 0.5\n",
    "b3 = torch.rand(3, dtype=torch.float, requires_grad=False) * 0.5\n",
    "b4 = torch.rand(2, dtype=torch.float, requires_grad=False) * 0.5\n",
    "\n",
    "save_cost_gd = []"
   ]
  },
  {
   "cell_type": "code",
   "execution_count": null,
   "metadata": {
    "colab": {},
    "colab_type": "code",
    "id": "3-tKu4ucixdz"
   },
   "outputs": [],
   "source": [
    "# Mostrar valores\n",
    "print(\"Valor de w2:\")\n",
    "print(w2)\n",
    "print()\n",
    "\n",
    "print(\"Valor de w3:\")\n",
    "print(w3)\n",
    "print()\n",
    "\n",
    "print(\"Valor de w4:\")\n",
    "print(w4)\n",
    "print()\n",
    "\n",
    "print(\"Valor de b2:\")\n",
    "print(b2)\n",
    "print()\n",
    "\n",
    "print(\"Valor de b3:\")\n",
    "print(b3)\n",
    "print()\n",
    "\n",
    "print(\"Valor de b4:\")\n",
    "print(b4)\n",
    "print()"
   ]
  },
  {
   "cell_type": "markdown",
   "metadata": {
    "colab_type": "text",
    "id": "s9kETJiQpXJx"
   },
   "source": [
    "### Rutina de entrenamiento\n"
   ]
  },
  {
   "cell_type": "code",
   "execution_count": null,
   "metadata": {
    "colab": {},
    "colab_type": "code",
    "id": "RF9asYOqpCN1"
   },
   "outputs": [],
   "source": [
    "cron_gd = cronometro()\n",
    "cron_gd.start()\n",
    "\n",
    "for iteracion in range(niter):\n",
    "  # extraer los inputs; data es una lista de [input, label]\n",
    "\n",
    "  ws2 = torch.zeros((10,2,2))\n",
    "  ws3 = torch.zeros((10,3,2))\n",
    "  ws4 = torch.zeros((10,2,3))\n",
    "  bs2 = torch.zeros((10,2))\n",
    "  bs3 = torch.zeros((10,3))\n",
    "  bs4 = torch.zeros((10,2))\n",
    "\n",
    "  for i in range(10):\n",
    "    #inputData, label = data[randrange(x.shape[0])]\n",
    "    inputData, label = data[i]\n",
    "\n",
    "    # Forward pass\n",
    "    a2 = activation(linear_fc(w2, b2,inputData))\n",
    "    a3 = activation(linear_fc(w3, b3, a2))\n",
    "    a4 = activation(linear_fc(w4, b4, a3))\n",
    "  \n",
    "    # Backward pass\n",
    "    #Derivadas locales\n",
    "    delta4 = a4 * (1-a4) * (a4 - cost_label(label))\n",
    "    delta3 = a3 * (1- a3) * (w4.t() @ delta4)\n",
    "    delta2 = a2 * (1- a2) * (w3.t() @ delta3)\n",
    "\n",
    "    # Derivadas parciales de los parámetros\n",
    "    ws2[i] = delta2.repeat(2,1).t() * inputData\n",
    "    ws3[i] = delta3.repeat(2,1).t() * a2\n",
    "    ws4[i] = delta4.repeat(3,1).t() * a3\n",
    "    bs2[i] = torch.clone(delta2)\n",
    "    bs3[i] = torch.clone(delta3)\n",
    "    bs4[i] = torch.clone(delta4)\n",
    "\n",
    "  # Gradient step\n",
    "  w2 = w2 - eta * torch.mean(ws2, 0)\n",
    "  \n",
    "  w3 = w3 - eta * torch.mean(ws3, 0)\n",
    "  \n",
    "  w4 = w4 - eta * torch.mean(ws4, 0)\n",
    "  \n",
    "  b2 = torch.mean(bs2, 0)\n",
    "  b3 = torch.mean(bs3, 0)\n",
    "  b4 = torch.mean(bs4, 0)\n",
    "  \n",
    "  \n",
    "  if iteracion % log_interval == 0:\n",
    "    coste_tot = coste_total()\n",
    "    save_cost_gd.append(coste_tot)\n",
    "    if iteracion % (log_interval * 100) == 0:\n",
    "      print(\"Iteración: [{}/{}] {:1.2f} % --> Coste: {:1.4f}\".format(iteracion + 1, niter, iteracion/niter * 100, coste_tot))\n",
    "  \n",
    "cron_gd.stop()\n",
    "cron_gd.get_time(cron_gd.total_time)"
   ]
  },
  {
   "cell_type": "markdown",
   "metadata": {
    "colab_type": "text",
    "id": "j3yDKEO07jPv"
   },
   "source": [
    "### Gráfico del valor de la función de coste por iteración\n"
   ]
  },
  {
   "cell_type": "code",
   "execution_count": null,
   "metadata": {
    "colab": {},
    "colab_type": "code",
    "id": "Be-UN9gw7jPy"
   },
   "outputs": [],
   "source": [
    "fig = plt.figure(figsize=(25, 10))\n",
    "plt.plot([x * log_interval for x in range(len(save_cost_gd))], save_cost_gd)\n",
    "plt.title(\"Gráfica coste/iteración\")\n",
    "plt.ylabel(\"Coste\")\n",
    "plt.xlabel(\"Número de iteraciónes\")\n",
    "fig.show()"
   ]
  },
  {
   "cell_type": "markdown",
   "metadata": {
    "colab_type": "text",
    "id": "eBqeXSpUv8ih"
   },
   "source": [
    "### Evaluación del modelo\n"
   ]
  },
  {
   "cell_type": "markdown",
   "metadata": {
    "colab_type": "text",
    "id": "wa8vf8_Go9az"
   },
   "source": [
    "#### Límite de decisión"
   ]
  },
  {
   "cell_type": "code",
   "execution_count": null,
   "metadata": {
    "colab": {},
    "colab_type": "code",
    "id": "mFQkD256Kq-E"
   },
   "outputs": [],
   "source": [
    "boundary = []\n",
    "with torch.no_grad():\n",
    "  for a in np.arange(0.0,01.05,0.005):\n",
    "    for b in np.arange(0.0,01.05,0.005):\n",
    "      out = output_net(torch.tensor([a,b], dtype=torch.float))\n",
    "      if(abs(out[0]-out[1]) <= 0.1):\n",
    "        boundary.append([a, b])\n",
    "\n",
    "limit = torch.tensor(boundary)\n",
    "\n",
    "plt.clf();\n",
    "fig2 = plt.figure()\n",
    "plt.scatter(datos_ent[:5,0],datos_ent[:5,1], c=\"red\", label=labels[0], marker=\"o\", s=50)\n",
    "plt.scatter(datos_ent[5:datos_ent.size()[0],0],datos_ent[5:datos_ent.size()[0],1], c=\"blue\", label=labels[1], marker=\"X\", s=50)\n",
    "plt.scatter(testSet[:2,0],testSet[:2,1], c=\"yellow\", label=labels[0] + \" test\", marker=\"o\", s=50)\n",
    "plt.scatter(testSet[2:5,0],testSet[2:5,1], c=\"green\", label=labels[1] + \" test\", marker=\"X\", s=50)\n",
    "\n",
    "plt.scatter(limit[:,0],limit[:,1], c=\"black\", label=\"boundary\", marker=\"o\", s=10)\n",
    "\n",
    "plt.title(\"Limite de decisión\")\n",
    "plt.legend()\n",
    "fig2.show()\n"
   ]
  },
  {
   "cell_type": "markdown",
   "metadata": {
    "colab_type": "text",
    "id": "hc3wEWQnpFR6"
   },
   "source": [
    "#### Precisión del modelo"
   ]
  },
  {
   "cell_type": "code",
   "execution_count": null,
   "metadata": {
    "colab": {},
    "colab_type": "code",
    "id": "h9vXcP2KJvnE"
   },
   "outputs": [],
   "source": [
    "predFc = lambda output : \"A\" if output[0] > output[1] else \"B\"\n",
    "numCorrect = 0\n",
    "with torch.no_grad():\n",
    "  for i in range(5):\n",
    "    out = predFc(output_net(testSet[i]))\n",
    "    if (out == testSetLabels[i]):\n",
    "      numCorrect += 1\n",
    "    else:\n",
    "      print(f\"Fallo al clasificar el punto: {i} -->\")\n",
    "      print(testSet[i])\n",
    "\n",
    "print(f\"La precisión de la red neuronal es: {(numCorrect / 5 * 100):.2f}%\")"
   ]
  },
  {
   "cell_type": "markdown",
   "metadata": {},
   "source": [
    "## License\n",
    "MIT License\n",
    "\n",
    "Copyright (c) 2020 Álvaro Rubio Segovia\n",
    "\n",
    "Permission is hereby granted, free of charge, to any person obtaining a copy\n",
    "of this software and associated documentation files (the \"Software\"), to deal\n",
    "in the Software without restriction, including without limitation the rights\n",
    "to use, copy, modify, merge, publish, distribute, sublicense, and/or sell\n",
    "copies of the Software, and to permit persons to whom the Software is\n",
    "furnished to do so, subject to the following conditions:\n",
    "\n",
    "The above copyright notice and this permission notice shall be included in all\n",
    "copies or substantial portions of the Software.\n",
    "\n",
    "THE SOFTWARE IS PROVIDED \"AS IS\", WITHOUT WARRANTY OF ANY KIND, EXPRESS OR\n",
    "IMPLIED, INCLUDING BUT NOT LIMITED TO THE WARRANTIES OF MERCHANTABILITY,\n",
    "FITNESS FOR A PARTICULAR PURPOSE AND NONINFRINGEMENT. IN NO EVENT SHALL THE\n",
    "AUTHORS OR COPYRIGHT HOLDERS BE LIABLE FOR ANY CLAIM, DAMAGES OR OTHER\n",
    "LIABILITY, WHETHER IN AN ACTION OF CONTRACT, TORT OR OTHERWISE, ARISING FROM,\n",
    "OUT OF OR IN CONNECTION WITH THE SOFTWARE OR THE USE OR OTHER DEALINGS IN THE\n",
    "SOFTWARE."
   ]
  }
 ],
 "metadata": {
  "colab": {
   "collapsed_sections": [],
   "name": "MatLabClassifierPytorchLow.ipynb",
   "provenance": [],
   "toc_visible": true
  },
  "kernelspec": {
   "display_name": "Python 3.8.5 32-bit ('TFGenv': venv)",
   "language": "python",
   "name": "python_defaultSpec_1600246185820"
  },
  "language_info": {
   "codemirror_mode": {
    "name": "ipython",
    "version": 3
   },
   "file_extension": ".py",
   "mimetype": "text/x-python",
   "name": "python",
   "nbconvert_exporter": "python",
   "pygments_lexer": "ipython3",
   "version": "3.8.5-final"
  }
 },
 "nbformat": 4,
 "nbformat_minor": 1
}